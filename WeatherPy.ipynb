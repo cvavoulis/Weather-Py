{
 "cells": [
  {
   "cell_type": "code",
   "execution_count": 1,
   "metadata": {
    "scrolled": true
   },
   "outputs": [],
   "source": [
    "# Dependencies and Setup\n",
    "import matplotlib.pyplot as plt\n",
    "import pandas as pd\n",
    "import numpy as np\n",
    "import requests\n",
    "import time\n",
    "\n",
    "# Import API key\n",
    "import api_keys\n",
    "\n",
    "# Incorporated citipy to determine city based on latitude and longitude\n",
    "from citipy import citipy\n",
    "\n",
    "# Output File (CSV)\n",
    "output_data_file = \"output_data/cities.csv\"\n",
    "\n",
    "# Range of latitudes and longitudes\n",
    "lat_range = (-90, 90)\n",
    "lng_range = (-180, 180)"
   ]
  },
  {
   "cell_type": "markdown",
   "metadata": {},
   "source": [
    "## Generate Cities List"
   ]
  },
  {
   "cell_type": "code",
   "execution_count": 2,
   "metadata": {},
   "outputs": [
    {
     "name": "stdout",
     "output_type": "stream",
     "text": [
      "626\n"
     ]
    },
    {
     "data": {
      "text/html": [
       "<div>\n",
       "<style scoped>\n",
       "    .dataframe tbody tr th:only-of-type {\n",
       "        vertical-align: middle;\n",
       "    }\n",
       "\n",
       "    .dataframe tbody tr th {\n",
       "        vertical-align: top;\n",
       "    }\n",
       "\n",
       "    .dataframe thead th {\n",
       "        text-align: right;\n",
       "    }\n",
       "</style>\n",
       "<table border=\"1\" class=\"dataframe\">\n",
       "  <thead>\n",
       "    <tr style=\"text-align: right;\">\n",
       "      <th></th>\n",
       "      <th>0</th>\n",
       "    </tr>\n",
       "  </thead>\n",
       "  <tbody>\n",
       "    <tr>\n",
       "      <th>0</th>\n",
       "      <td>avarua</td>\n",
       "    </tr>\n",
       "    <tr>\n",
       "      <th>1</th>\n",
       "      <td>redlands</td>\n",
       "    </tr>\n",
       "    <tr>\n",
       "      <th>2</th>\n",
       "      <td>ust-kuyga</td>\n",
       "    </tr>\n",
       "    <tr>\n",
       "      <th>3</th>\n",
       "      <td>sao felix do xingu</td>\n",
       "    </tr>\n",
       "    <tr>\n",
       "      <th>4</th>\n",
       "      <td>amderma</td>\n",
       "    </tr>\n",
       "  </tbody>\n",
       "</table>\n",
       "</div>"
      ],
      "text/plain": [
       "                    0\n",
       "0              avarua\n",
       "1            redlands\n",
       "2           ust-kuyga\n",
       "3  sao felix do xingu\n",
       "4             amderma"
      ]
     },
     "execution_count": 2,
     "metadata": {},
     "output_type": "execute_result"
    }
   ],
   "source": [
    "# List for holding lat_lngs and cities\n",
    "lat_lngs = []\n",
    "cities = []\n",
    "\n",
    "# Create a set of random lat and lng combinations\n",
    "lats = np.random.uniform(low=-90.000, high=90.000, size=1500)\n",
    "lngs = np.random.uniform(low=-180.000, high=180.000, size=1500)\n",
    "lat_lngs = zip(lats, lngs)\n",
    "\n",
    "# Identify nearest city for each lat, lng combination\n",
    "for lat_lng in lat_lngs:\n",
    "    city = citipy.nearest_city(lat_lng[0], lat_lng[1]).city_name\n",
    "    \n",
    "    # If the city is unique, then add it to a our cities list\n",
    "    if city not in cities:\n",
    "        cities.append(city)\n",
    "\n",
    "# Print the city count to confirm sufficient count            \n",
    "len(cities)\n",
    "print(len(cities))\n",
    "cities_chart=pd.DataFrame(cities)\n",
    "cities_chart.head(5)\n"
   ]
  },
  {
   "cell_type": "markdown",
   "metadata": {},
   "source": [
    "## Perform API Calls"
   ]
  },
  {
   "cell_type": "code",
   "execution_count": 5,
   "metadata": {},
   "outputs": [
    {
     "name": "stdout",
     "output_type": "stream",
     "text": [
      "City Name: amderma\n",
      "City Name: inderborskiy\n",
      "City Name: linchuan\n",
      "City Name: maloshuyka\n",
      "City Name: illoqqortoormiut\n",
      "City Name: hendijan\n",
      "City Name: quetzaltepec\n",
      "City Name: barbar\n",
      "City Name: barentsburg\n",
      "City Name: sentyabrskiy\n",
      "City Name: bengkulu\n",
      "City Name: piryion\n",
      "City Name: nizhneyansk\n",
      "City Name: marcona\n",
      "City Name: tukrah\n",
      "City Name: mys shmidta\n",
      "City Name: tidore\n",
      "City Name: tsihombe\n",
      "City Name: aflu\n",
      "City Name: gulshat\n",
      "City Name: attawapiskat\n",
      "City Name: wahran\n",
      "City Name: la uribe\n",
      "City Name: karamea\n",
      "City Name: yuzhno-yeniseyskiy\n",
      "City Name: krasnoselkup\n",
      "City Name: domoni\n",
      "City Name: ruatoria\n",
      "City Name: yuancheng\n",
      "City Name: taolanaro\n",
      "City Name: kazalinsk\n",
      "City Name: belushya guba\n",
      "City Name: beruni\n",
      "City Name: barawe\n",
      "City Name: umzimvubu\n",
      "City Name: eldikan\n",
      "City Name: sao miguel do oeste\n",
      "City Name: asau\n",
      "City Name: zhovtneve\n",
      "City Name: meyungs\n",
      "City Name: vaitupu\n",
      "City Name: asfi\n",
      "City Name: bargal\n",
      "City Name: palabuhanratu\n",
      "City Name: satitoa\n",
      "City Name: nguiu\n",
      "City Name: cucer\n",
      "City Name: stornoway\n",
      "City Name: maridi\n",
      "City Name: maimon\n",
      "City Name: turkistan\n",
      "City Name: samusu\n",
      "City Name: tumannyy\n",
      "City Name: kegayli\n",
      "City Name: dzhusaly\n",
      "City Name: grand river south east\n",
      "City Name: halalo\n",
      "City Name: sedelnikovo\n",
      "City Name: alotau\n",
      "City Name: mrirt\n",
      "City Name: tawnat\n",
      "City Name: tingrela\n",
      "City Name: soldatskiy\n",
      "City Name: vastervik\n",
      "City Name: kamenskoye\n",
      "City Name: solovetskiy\n",
      "City Name: ondorhaan\n",
      "City Name: bairiki\n",
      "City Name: kyle of lochalsh\n",
      "City Name: jiddah\n",
      "City Name: artyk\n",
      "City Name: lolua\n"
     ]
    }
   ],
   "source": [
    "# OpenWeatherMap API Key\n",
    "api_key = api_keys.api_key\n",
    "\n",
    "Latitude=[]\n",
    "Temperature=[]\n",
    "Humidity=[]\n",
    "Cloudiness=[]\n",
    "Wind_Speed=[]\n",
    "cities_new=[]\n",
    "\n",
    "# Starting URL for Weather Map API Call\n",
    "for city in cities:\n",
    "    try:\n",
    "        url = \"http://api.openweathermap.org/data/2.5/weather?units=Imperial&APPID=\"+api_key+\"&q=\"+city\n",
    "        response=requests.get(url).json()\n",
    "        Latitude.append(response[\"coord\"][\"lat\"])\n",
    "        Temperature.append(response[\"main\"][\"temp\"])\n",
    "        Humidity.append(response[\"main\"][\"humidity\"])\n",
    "        Cloudiness.append(response[\"clouds\"][\"all\"])\n",
    "        Wind_Speed.append(response[\"wind\"][\"speed\"])\n",
    "        cities_new.append(response[\"name\"])\n",
    "        city_name=response[\"name\"]\n",
    "    except:\n",
    "        pass\n",
    "        print(f\"City Name: {city}\")\n",
    "    \n",
    "\n",
    "\n",
    "# for city in cities_new:\n",
    "    # print(f\"City Number: \")\n",
    "    \n",
    "\n"
   ]
  },
  {
   "cell_type": "code",
   "execution_count": null,
   "metadata": {},
   "outputs": [],
   "source": [
    "data_dict={\"Cities\":cities_new,\n",
    "           \"Latitude\":Latitude,\n",
    "           \"Temperature\":Temperature,\n",
    "           \"Humidity\":Humidity,\n",
    "           \"Cloudiness\":Cloudiness,\n",
    "           \"Wind Speed\":Wind_Speed}\n",
    "weather_chart=pd.DataFrame(data_dict)\n",
    "weather_chart.head(10)"
   ]
  },
  {
   "cell_type": "code",
   "execution_count": null,
   "metadata": {},
   "outputs": [],
   "source": [
    "plt.scatter(weather_chart[\"Latitude\"], weather_chart[\"Temperature\"], color=\"blue\", edgecolor=\"black\")\n",
    "plt.xlim(-80, 100)\n",
    "plt.ylim(-100,150)\n",
    "plt.grid()\n",
    "plt.xlabel(\"Latitude\")\n",
    "plt.ylabel(\"Max Temperature (F)\")\n",
    "plt.title(\"City Latitude Vs. Max Temperature\")\n",
    "plt.savefig(\"Temp_graph.png\")"
   ]
  },
  {
   "cell_type": "code",
   "execution_count": null,
   "metadata": {},
   "outputs": [],
   "source": [
    "plt.scatter(weather_chart[\"Latitude\"], weather_chart[\"Humidity\"], color=\"blue\", edgecolor=\"black\")\n",
    "plt.xlim(-80, 100)\n",
    "plt.ylim(-20,120)\n",
    "plt.grid()\n",
    "plt.xlabel(\"Latitude\")\n",
    "plt.ylabel(\"Humidity\")\n",
    "plt.title(\"City Latitude Vs. Humidity\")\n",
    "plt.savefig(\"Humidity_graph.png\")"
   ]
  },
  {
   "cell_type": "code",
   "execution_count": null,
   "metadata": {},
   "outputs": [],
   "source": [
    "plt.scatter(weather_chart[\"Latitude\"], weather_chart[\"Cloudiness\"], color=\"blue\", edgecolor=\"black\")\n",
    "plt.xlim(-80, 100)\n",
    "plt.ylim(-120,120)\n",
    "plt.grid()\n",
    "plt.xlabel(\"Latitude\")\n",
    "plt.ylabel(\"Cloudiness\")\n",
    "plt.title(\"City Latitude Vs. Cloudiness\")\n",
    "plt.savefig(\"Cloudiness_graph.png\")"
   ]
  },
  {
   "cell_type": "code",
   "execution_count": null,
   "metadata": {},
   "outputs": [],
   "source": [
    "plt.scatter(weather_chart[\"Latitude\"], weather_chart[\"Wind Speed\"], color=\"blue\", edgecolor=\"black\")\n",
    "plt.xlim(-80, 100)\n",
    "plt.ylim(-5,40)\n",
    "plt.grid()\n",
    "plt.xlabel(\"Latitude\")\n",
    "plt.ylabel(\"Wind Speed\")\n",
    "plt.title(\"City Latitude Vs. Wind Speed\")\n",
    "plt.savefig(\"Wind_Speed_Graph\")"
   ]
  },
  {
   "cell_type": "markdown",
   "metadata": {},
   "source": [
    "## Three Observable Trends\n",
    "1. Cities located closer to the equator generally have higher temperatures. This was expected. \n",
    "2. Humidity seems to be highest between 20 and 40 degrees latitude (or -20 and -40). This is right around the tropics of capricorn and tropics of cancer. Right near the euqator and near the poles has less humidity. \n",
    "3. No there is no correlation between latitude and cloudiness. "
   ]
  },
  {
   "cell_type": "code",
   "execution_count": null,
   "metadata": {},
   "outputs": [],
   "source": []
  }
 ],
 "metadata": {
  "anaconda-cloud": {},
  "kernelspec": {
   "display_name": "Python [default]",
   "language": "python",
   "name": "python3"
  },
  "language_info": {
   "codemirror_mode": {
    "name": "ipython",
    "version": 3
   },
   "file_extension": ".py",
   "mimetype": "text/x-python",
   "name": "python",
   "nbconvert_exporter": "python",
   "pygments_lexer": "ipython3",
   "version": "3.6.5"
  }
 },
 "nbformat": 4,
 "nbformat_minor": 1
}
